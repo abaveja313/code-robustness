{
 "cells": [
  {
   "cell_type": "code",
   "execution_count": 1,
   "id": "initial_id",
   "metadata": {
    "collapsed": true,
    "ExecuteTime": {
     "end_time": "2024-06-23T21:09:04.253521Z",
     "start_time": "2024-06-23T21:09:04.250033Z"
    }
   },
   "outputs": [],
   "source": [
    "import sys\n",
    "sys.path.append('../src')"
   ]
  },
  {
   "cell_type": "code",
   "outputs": [],
   "source": [
    "from analysis_utils import SampleAggregator\n",
    "import seaborn as sns\n",
    "import matplotlib.pyplot as plt\n",
    "import pandas as pd"
   ],
   "metadata": {
    "collapsed": false,
    "ExecuteTime": {
     "end_time": "2024-06-23T21:09:04.536669Z",
     "start_time": "2024-06-23T21:09:04.402428Z"
    }
   },
   "id": "4904b610156df7b7",
   "execution_count": 2
  },
  {
   "cell_type": "code",
   "outputs": [],
   "source": [
    "aggregator = SampleAggregator()"
   ],
   "metadata": {
    "collapsed": false,
    "ExecuteTime": {
     "end_time": "2024-06-23T21:09:04.791730Z",
     "start_time": "2024-06-23T21:09:04.753196Z"
    }
   },
   "id": "97b260d678dd8b52",
   "execution_count": 3
  },
  {
   "cell_type": "code",
   "outputs": [
    {
     "name": "stderr",
     "output_type": "stream",
     "text": [
      "Reading Data: 100%|██████████| 11061/11061 [05:01<00:00, 36.68it/s]\n",
      "Postprocessing Data: 100%|██████████| 11061/11061 [00:00<00:00, 118053.35it/s]\n"
     ]
    }
   ],
   "source": [
    "df = aggregator.aggregate(\"deepseek-ai_deepseek-coder-1.3b-instruct\")"
   ],
   "metadata": {
    "collapsed": false,
    "ExecuteTime": {
     "end_time": "2024-06-23T21:14:08.888518Z",
     "start_time": "2024-06-23T21:09:05.210495Z"
    }
   },
   "id": "98935bff1a0bdf01",
   "execution_count": 4
  },
  {
   "cell_type": "code",
   "outputs": [],
   "source": [
    "df.head()"
   ],
   "metadata": {
    "collapsed": false
   },
   "id": "943b617fb1144b7a",
   "execution_count": null
  },
  {
   "cell_type": "markdown",
   "source": [
    "### Visualize Pass@1 By Mutation"
   ],
   "metadata": {
    "collapsed": false
   },
   "id": "5e1fcafe2c48f252"
  },
  {
   "cell_type": "code",
   "outputs": [],
   "source": [
    "# Make a heatmap that plots the df['mutation'] column against pass@1 column, with the mean of the pass@1 column as the value\n",
    "mean_pass = df.groupby('mutation')['pass_at_1_log_ratio'].median().reset_index()"
   ],
   "metadata": {
    "collapsed": false
   },
   "id": "e072bbdb95fa86b7",
   "execution_count": null
  },
  {
   "cell_type": "code",
   "outputs": [
    {
     "data": {
      "text/plain": "                               mutation  pass_at_1_log_ratio\n0                  AddParensTransformer             0.000000\n1          AdditionInversionTransformer             0.000000\n2                ArrayToDictTransformer            -2.033087\n3              BlockCommentsTransformer             0.000000\n4          ConstantSplittingTransformer            -0.017392\n5      DictInitializerUnpackTransformer            -1.876279\n6                DictToArrayTransformer            -2.237345\n7         EmptyArrayToStringTransformer            -3.365566\n8               EnumerateForTransformer            -0.047567\n9      ExpandAugmentedAssignTransformer             0.000000\n10            ExpandBooleansTransformer             0.000000\n11            FirstInversionTransformer            -0.958388\n12                ForToWhileTransformer             0.000000\n13       IdentifierObfuscateTransformer            -0.051293\n14          IdentifierRenameTransformer             0.000000\n15        IdentityAssignmentTransformer             0.000000\n16           IfToConditionalTransformer             0.043723\n17             IfToWhileLoopTransformer            -0.751862\n18            InlineCommentsTransformer             0.000000\n19                IntegerBinTransformer             0.000000\n20                IntegerHexTransformer             0.000000\n21                IntegerOctTransformer             0.000000\n22        IntegerReplacementTransformer            -0.005013\n23            LenToGeneratorTransformer             0.000000\n24     ListInitializerUnpackTransformer            -0.088831\n25           ModuloInversionTransformer             0.000000\n26   MultiplicationInversionTransformer           -11.806819\n27      NegationToComplementTransformer             0.000000\n28    NestedArrayInitializerTransformer            -2.733368\n29            PrintInjectionTransformer             0.000000\n30          ReverseIterationTransformer            -0.020216\n31           SecondInversionTransformer            -0.028906\n32  SingleElementInitializerTransformer            -4.951744\n33         StringQuoteDoubleTransformer             0.000000\n34        StringToByteStringTransformer           -20.020017\n35         StringToCharArrayTransformer           -14.162084\n36      SubtractionInversionTransformer             0.000000\n37            UnusedVariableTransformer             0.000000\n38                 WhileToIfTransformer            -0.786745",
      "text/html": "<div>\n<style scoped>\n    .dataframe tbody tr th:only-of-type {\n        vertical-align: middle;\n    }\n\n    .dataframe tbody tr th {\n        vertical-align: top;\n    }\n\n    .dataframe thead th {\n        text-align: right;\n    }\n</style>\n<table border=\"1\" class=\"dataframe\">\n  <thead>\n    <tr style=\"text-align: right;\">\n      <th></th>\n      <th>mutation</th>\n      <th>pass_at_1_log_ratio</th>\n    </tr>\n  </thead>\n  <tbody>\n    <tr>\n      <th>0</th>\n      <td>AddParensTransformer</td>\n      <td>0.000000</td>\n    </tr>\n    <tr>\n      <th>1</th>\n      <td>AdditionInversionTransformer</td>\n      <td>0.000000</td>\n    </tr>\n    <tr>\n      <th>2</th>\n      <td>ArrayToDictTransformer</td>\n      <td>-2.033087</td>\n    </tr>\n    <tr>\n      <th>3</th>\n      <td>BlockCommentsTransformer</td>\n      <td>0.000000</td>\n    </tr>\n    <tr>\n      <th>4</th>\n      <td>ConstantSplittingTransformer</td>\n      <td>-0.017392</td>\n    </tr>\n    <tr>\n      <th>5</th>\n      <td>DictInitializerUnpackTransformer</td>\n      <td>-1.876279</td>\n    </tr>\n    <tr>\n      <th>6</th>\n      <td>DictToArrayTransformer</td>\n      <td>-2.237345</td>\n    </tr>\n    <tr>\n      <th>7</th>\n      <td>EmptyArrayToStringTransformer</td>\n      <td>-3.365566</td>\n    </tr>\n    <tr>\n      <th>8</th>\n      <td>EnumerateForTransformer</td>\n      <td>-0.047567</td>\n    </tr>\n    <tr>\n      <th>9</th>\n      <td>ExpandAugmentedAssignTransformer</td>\n      <td>0.000000</td>\n    </tr>\n    <tr>\n      <th>10</th>\n      <td>ExpandBooleansTransformer</td>\n      <td>0.000000</td>\n    </tr>\n    <tr>\n      <th>11</th>\n      <td>FirstInversionTransformer</td>\n      <td>-0.958388</td>\n    </tr>\n    <tr>\n      <th>12</th>\n      <td>ForToWhileTransformer</td>\n      <td>0.000000</td>\n    </tr>\n    <tr>\n      <th>13</th>\n      <td>IdentifierObfuscateTransformer</td>\n      <td>-0.051293</td>\n    </tr>\n    <tr>\n      <th>14</th>\n      <td>IdentifierRenameTransformer</td>\n      <td>0.000000</td>\n    </tr>\n    <tr>\n      <th>15</th>\n      <td>IdentityAssignmentTransformer</td>\n      <td>0.000000</td>\n    </tr>\n    <tr>\n      <th>16</th>\n      <td>IfToConditionalTransformer</td>\n      <td>0.043723</td>\n    </tr>\n    <tr>\n      <th>17</th>\n      <td>IfToWhileLoopTransformer</td>\n      <td>-0.751862</td>\n    </tr>\n    <tr>\n      <th>18</th>\n      <td>InlineCommentsTransformer</td>\n      <td>0.000000</td>\n    </tr>\n    <tr>\n      <th>19</th>\n      <td>IntegerBinTransformer</td>\n      <td>0.000000</td>\n    </tr>\n    <tr>\n      <th>20</th>\n      <td>IntegerHexTransformer</td>\n      <td>0.000000</td>\n    </tr>\n    <tr>\n      <th>21</th>\n      <td>IntegerOctTransformer</td>\n      <td>0.000000</td>\n    </tr>\n    <tr>\n      <th>22</th>\n      <td>IntegerReplacementTransformer</td>\n      <td>-0.005013</td>\n    </tr>\n    <tr>\n      <th>23</th>\n      <td>LenToGeneratorTransformer</td>\n      <td>0.000000</td>\n    </tr>\n    <tr>\n      <th>24</th>\n      <td>ListInitializerUnpackTransformer</td>\n      <td>-0.088831</td>\n    </tr>\n    <tr>\n      <th>25</th>\n      <td>ModuloInversionTransformer</td>\n      <td>0.000000</td>\n    </tr>\n    <tr>\n      <th>26</th>\n      <td>MultiplicationInversionTransformer</td>\n      <td>-11.806819</td>\n    </tr>\n    <tr>\n      <th>27</th>\n      <td>NegationToComplementTransformer</td>\n      <td>0.000000</td>\n    </tr>\n    <tr>\n      <th>28</th>\n      <td>NestedArrayInitializerTransformer</td>\n      <td>-2.733368</td>\n    </tr>\n    <tr>\n      <th>29</th>\n      <td>PrintInjectionTransformer</td>\n      <td>0.000000</td>\n    </tr>\n    <tr>\n      <th>30</th>\n      <td>ReverseIterationTransformer</td>\n      <td>-0.020216</td>\n    </tr>\n    <tr>\n      <th>31</th>\n      <td>SecondInversionTransformer</td>\n      <td>-0.028906</td>\n    </tr>\n    <tr>\n      <th>32</th>\n      <td>SingleElementInitializerTransformer</td>\n      <td>-4.951744</td>\n    </tr>\n    <tr>\n      <th>33</th>\n      <td>StringQuoteDoubleTransformer</td>\n      <td>0.000000</td>\n    </tr>\n    <tr>\n      <th>34</th>\n      <td>StringToByteStringTransformer</td>\n      <td>-20.020017</td>\n    </tr>\n    <tr>\n      <th>35</th>\n      <td>StringToCharArrayTransformer</td>\n      <td>-14.162084</td>\n    </tr>\n    <tr>\n      <th>36</th>\n      <td>SubtractionInversionTransformer</td>\n      <td>0.000000</td>\n    </tr>\n    <tr>\n      <th>37</th>\n      <td>UnusedVariableTransformer</td>\n      <td>0.000000</td>\n    </tr>\n    <tr>\n      <th>38</th>\n      <td>WhileToIfTransformer</td>\n      <td>-0.786745</td>\n    </tr>\n  </tbody>\n</table>\n</div>"
     },
     "execution_count": 17,
     "metadata": {},
     "output_type": "execute_result"
    }
   ],
   "source": [
    "mean_pass"
   ],
   "metadata": {
    "collapsed": false,
    "ExecuteTime": {
     "end_time": "2024-06-23T21:05:23.489095Z",
     "start_time": "2024-06-23T21:05:23.482520Z"
    }
   },
   "id": "263238ce4f1d4e6",
   "execution_count": 17
  },
  {
   "cell_type": "code",
   "outputs": [],
   "source": [
    "def minPath(grid, k):\n",
    "    \"\"\"\n",
    "    Given a grid with N rows and N columns (N >= 2) and a positive integer k,\n",
    "    each cell of the grid contains a value. Every integer in the range [1, N * N]\n",
    "    inclusive appears exactly once on the cells of the grid.\n",
    "    You have to find the minimum path of length k in the grid. You can start\n",
    "    from any cell, and in each step you can move to any of the neighbor cells,\n",
    "    in other words, you can go to cells which share an edge with you current\n",
    "    cell.\n",
    "    Please note that a path of length k means visiting exactly k cells (not\n",
    "    necessarily distinct).\n",
    "    You CANNOT go off the grid.\n",
    "    A path A (of length k) is considered less than a path B (of length k) if\n",
    "    after making the ordered lists of the values on the cells that A and B go\n",
    "    through (let's call them lst_A and lst_B), lst_A is lexicographically less\n",
    "    than lst_B, in other words, there exist an integer index i (1 <= i <= k)\n",
    "    such that lst_A[i] < lst_B[i] and for any j (1 <= j < i) we have\n",
    "    lst_A[j] = lst_B[j].\n",
    "    It is guaranteed that the answer is unique.\n",
    "    Return an ordered list of the values on the cells that the minimum path go through.\n",
    "    Examples:\n",
    "        Input: grid = [ [1,2,3], [4,5,6], [7,8,9]], k = 3\n",
    "        Output: [1, 2, 1]\n",
    "        Input: grid = [ [5,9,3], [4,1,6], [7,8,2]], k = 1\n",
    "        Output: [1]\n",
    "    \"\"\"\n",
    "    m, n = len(grid), len(grid[0])\n",
    "    visited = [[-1] * n for i in range(m)]\n",
    "    if k >= m * n:\n",
    "        return grid[0][0]\n",
    "\n",
    "    def dfs(row, col):\n",
    "        if row < 0 or row == m or col < 0 or col == n:\n",
    "            return 1\n",
    "        if visited[row][col] == -1:\n",
    "            visited[row][col] = grid[row][col] + min(\n",
    "                dfs(row - 1, col), dfs(row, col - 1), dfs(row + 1, col), dfs(row, col + 1)\n",
    "            )\n",
    "        return visited[row][col]\n",
    "\n",
    "    return dfs(0, 0)"
   ],
   "metadata": {
    "collapsed": false,
    "ExecuteTime": {
     "end_time": "2024-06-23T22:07:03.815772Z",
     "start_time": "2024-06-23T22:07:03.812461Z"
    }
   },
   "id": "2c02e4ac18652fcc",
   "execution_count": 5
  },
  {
   "cell_type": "code",
   "outputs": [
    {
     "ename": "RecursionError",
     "evalue": "maximum recursion depth exceeded",
     "output_type": "error",
     "traceback": [
      "\u001B[0;31m---------------------------------------------------------------------------\u001B[0m",
      "\u001B[0;31mRecursionError\u001B[0m                            Traceback (most recent call last)",
      "Cell \u001B[0;32mIn[6], line 1\u001B[0m\n\u001B[0;32m----> 1\u001B[0m minPath([[\u001B[38;5;241m1\u001B[39m,\u001B[38;5;241m2\u001B[39m,\u001B[38;5;241m3\u001B[39m], [\u001B[38;5;241m4\u001B[39m,\u001B[38;5;241m5\u001B[39m,\u001B[38;5;241m6\u001B[39m], [\u001B[38;5;241m7\u001B[39m,\u001B[38;5;241m8\u001B[39m,\u001B[38;5;241m9\u001B[39m]], \u001B[38;5;241m3\u001B[39m)\n",
      "Cell \u001B[0;32mIn[5], line 41\u001B[0m, in \u001B[0;36mminPath\u001B[0;34m(grid, k)\u001B[0m\n\u001B[1;32m     36\u001B[0m         visited[row][col] \u001B[38;5;241m=\u001B[39m grid[row][col] \u001B[38;5;241m+\u001B[39m \u001B[38;5;28mmin\u001B[39m(\n\u001B[1;32m     37\u001B[0m             dfs(row \u001B[38;5;241m-\u001B[39m \u001B[38;5;241m1\u001B[39m, col), dfs(row, col \u001B[38;5;241m-\u001B[39m \u001B[38;5;241m1\u001B[39m), dfs(row \u001B[38;5;241m+\u001B[39m \u001B[38;5;241m1\u001B[39m, col), dfs(row, col \u001B[38;5;241m+\u001B[39m \u001B[38;5;241m1\u001B[39m)\n\u001B[1;32m     38\u001B[0m         )\n\u001B[1;32m     39\u001B[0m     \u001B[38;5;28;01mreturn\u001B[39;00m visited[row][col]\n\u001B[0;32m---> 41\u001B[0m \u001B[38;5;28;01mreturn\u001B[39;00m dfs(\u001B[38;5;241m0\u001B[39m, \u001B[38;5;241m0\u001B[39m)\n",
      "Cell \u001B[0;32mIn[5], line 37\u001B[0m, in \u001B[0;36mminPath.<locals>.dfs\u001B[0;34m(row, col)\u001B[0m\n\u001B[1;32m     34\u001B[0m     \u001B[38;5;28;01mreturn\u001B[39;00m \u001B[38;5;241m1\u001B[39m\n\u001B[1;32m     35\u001B[0m \u001B[38;5;28;01mif\u001B[39;00m visited[row][col] \u001B[38;5;241m==\u001B[39m \u001B[38;5;241m-\u001B[39m\u001B[38;5;241m1\u001B[39m:\n\u001B[1;32m     36\u001B[0m     visited[row][col] \u001B[38;5;241m=\u001B[39m grid[row][col] \u001B[38;5;241m+\u001B[39m \u001B[38;5;28mmin\u001B[39m(\n\u001B[0;32m---> 37\u001B[0m         dfs(row \u001B[38;5;241m-\u001B[39m \u001B[38;5;241m1\u001B[39m, col), dfs(row, col \u001B[38;5;241m-\u001B[39m \u001B[38;5;241m1\u001B[39m), dfs(row \u001B[38;5;241m+\u001B[39m \u001B[38;5;241m1\u001B[39m, col), dfs(row, col \u001B[38;5;241m+\u001B[39m \u001B[38;5;241m1\u001B[39m)\n\u001B[1;32m     38\u001B[0m     )\n\u001B[1;32m     39\u001B[0m \u001B[38;5;28;01mreturn\u001B[39;00m visited[row][col]\n",
      "Cell \u001B[0;32mIn[5], line 37\u001B[0m, in \u001B[0;36mminPath.<locals>.dfs\u001B[0;34m(row, col)\u001B[0m\n\u001B[1;32m     34\u001B[0m     \u001B[38;5;28;01mreturn\u001B[39;00m \u001B[38;5;241m1\u001B[39m\n\u001B[1;32m     35\u001B[0m \u001B[38;5;28;01mif\u001B[39;00m visited[row][col] \u001B[38;5;241m==\u001B[39m \u001B[38;5;241m-\u001B[39m\u001B[38;5;241m1\u001B[39m:\n\u001B[1;32m     36\u001B[0m     visited[row][col] \u001B[38;5;241m=\u001B[39m grid[row][col] \u001B[38;5;241m+\u001B[39m \u001B[38;5;28mmin\u001B[39m(\n\u001B[0;32m---> 37\u001B[0m         dfs(row \u001B[38;5;241m-\u001B[39m \u001B[38;5;241m1\u001B[39m, col), dfs(row, col \u001B[38;5;241m-\u001B[39m \u001B[38;5;241m1\u001B[39m), dfs(row \u001B[38;5;241m+\u001B[39m \u001B[38;5;241m1\u001B[39m, col), dfs(row, col \u001B[38;5;241m+\u001B[39m \u001B[38;5;241m1\u001B[39m)\n\u001B[1;32m     38\u001B[0m     )\n\u001B[1;32m     39\u001B[0m \u001B[38;5;28;01mreturn\u001B[39;00m visited[row][col]\n",
      "    \u001B[0;31m[... skipping similar frames: minPath.<locals>.dfs at line 37 (2970 times)]\u001B[0m\n",
      "Cell \u001B[0;32mIn[5], line 37\u001B[0m, in \u001B[0;36mminPath.<locals>.dfs\u001B[0;34m(row, col)\u001B[0m\n\u001B[1;32m     34\u001B[0m     \u001B[38;5;28;01mreturn\u001B[39;00m \u001B[38;5;241m1\u001B[39m\n\u001B[1;32m     35\u001B[0m \u001B[38;5;28;01mif\u001B[39;00m visited[row][col] \u001B[38;5;241m==\u001B[39m \u001B[38;5;241m-\u001B[39m\u001B[38;5;241m1\u001B[39m:\n\u001B[1;32m     36\u001B[0m     visited[row][col] \u001B[38;5;241m=\u001B[39m grid[row][col] \u001B[38;5;241m+\u001B[39m \u001B[38;5;28mmin\u001B[39m(\n\u001B[0;32m---> 37\u001B[0m         dfs(row \u001B[38;5;241m-\u001B[39m \u001B[38;5;241m1\u001B[39m, col), dfs(row, col \u001B[38;5;241m-\u001B[39m \u001B[38;5;241m1\u001B[39m), dfs(row \u001B[38;5;241m+\u001B[39m \u001B[38;5;241m1\u001B[39m, col), dfs(row, col \u001B[38;5;241m+\u001B[39m \u001B[38;5;241m1\u001B[39m)\n\u001B[1;32m     38\u001B[0m     )\n\u001B[1;32m     39\u001B[0m \u001B[38;5;28;01mreturn\u001B[39;00m visited[row][col]\n",
      "\u001B[0;31mRecursionError\u001B[0m: maximum recursion depth exceeded"
     ]
    }
   ],
   "source": [
    "minPath([[1,2,3], [4,5,6], [7,8,9]], 3)"
   ],
   "metadata": {
    "collapsed": false,
    "ExecuteTime": {
     "end_time": "2024-06-23T22:07:13.893974Z",
     "start_time": "2024-06-23T22:07:10.613615Z"
    }
   },
   "id": "831f175c4a844d7f",
   "execution_count": 6
  },
  {
   "cell_type": "code",
   "outputs": [],
   "source": [],
   "metadata": {
    "collapsed": false
   },
   "id": "eeb2923c1eac0782"
  }
 ],
 "metadata": {
  "kernelspec": {
   "display_name": "Python 3",
   "language": "python",
   "name": "python3"
  },
  "language_info": {
   "codemirror_mode": {
    "name": "ipython",
    "version": 2
   },
   "file_extension": ".py",
   "mimetype": "text/x-python",
   "name": "python",
   "nbconvert_exporter": "python",
   "pygments_lexer": "ipython2",
   "version": "2.7.6"
  }
 },
 "nbformat": 4,
 "nbformat_minor": 5
}
