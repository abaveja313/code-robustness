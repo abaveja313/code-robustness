{
 "cells": [
  {
   "cell_type": "code",
   "execution_count": 1,
   "id": "initial_id",
   "metadata": {
    "collapsed": true,
    "ExecuteTime": {
     "end_time": "2024-06-04T21:11:05.901028Z",
     "start_time": "2024-06-04T21:11:05.894527Z"
    }
   },
   "outputs": [],
   "source": [
    "import sys\n",
    "sys.path.append('../src')"
   ]
  },
  {
   "cell_type": "code",
   "outputs": [],
   "source": [
    "import gcsfs\n",
    "fs = gcsfs.GCSFileSystem(\n",
    "    project='research',\n",
    "    bucket='amrit-research-samples',\n",
    "    token='/Users/amrit/Desktop/StanfordAI/.keys/service-account.json'\n",
    ")"
   ],
   "metadata": {
    "collapsed": false,
    "ExecuteTime": {
     "end_time": "2024-06-04T21:11:29.380284Z",
     "start_time": "2024-06-04T21:11:29.053798Z"
    }
   },
   "id": "cbd40fbff3906570",
   "execution_count": 3
  },
  {
   "cell_type": "markdown",
   "source": [
    "## Load All Samples from GCS"
   ],
   "metadata": {
    "collapsed": false
   },
   "id": "e76ca0b2a0f0fd89"
  },
  {
   "cell_type": "code",
   "outputs": [
    {
     "name": "stderr",
     "output_type": "stream",
     "text": [
      "100%|██████████| 619/619 [01:51<00:00,  5.56it/s]\n"
     ]
    }
   ],
   "source": [
    "from json import JSONDecodeError\n",
    "import json\n",
    "import tqdm\n",
    "\n",
    "rows = []\n",
    "for sample_url in tqdm.tqdm(fs.ls('amrit-research-samples/Mbpp')):\n",
    "    contents = fs.cat(sample_url).decode('utf-8')\n",
    "    lines = contents.strip('\\n').split('\\n')\n",
    "    for line in lines:\n",
    "        parsed_line = json.loads(line)\n",
    "        \n",
    "        for key in parsed_line['pass_at_original']:\n",
    "            parsed_line[f'pass_at_original_{key}'] = parsed_line['pass_at_original'][key]\n",
    "        \n",
    "        for key in parsed_line['pass_at_mutated']:\n",
    "            parsed_line[f'pass_at_mutated_{key}'] = parsed_line['pass_at_mutated'][key]\n",
    "        \n",
    "                \n",
    "        for key in parsed_line['pass_at_ratio']:\n",
    "            parsed_line[f'{key}_ratio'] = parsed_line['pass_at_ratio'][key]\n",
    "    \n",
    "        rows.append(parsed_line)"
   ],
   "metadata": {
    "collapsed": false,
    "ExecuteTime": {
     "end_time": "2024-06-04T21:14:49.691273Z",
     "start_time": "2024-06-04T21:12:58.375497Z"
    }
   },
   "id": "ff614e38a81c571b",
   "execution_count": 5
  },
  {
   "cell_type": "code",
   "outputs": [
    {
     "data": {
      "text/plain": "619"
     },
     "execution_count": 6,
     "metadata": {},
     "output_type": "execute_result"
    }
   ],
   "source": [
    "len(rows)"
   ],
   "metadata": {
    "collapsed": false,
    "ExecuteTime": {
     "end_time": "2024-06-04T21:14:52.188697Z",
     "start_time": "2024-06-04T21:14:52.183872Z"
    }
   },
   "id": "a2ddfbaeb0a16c6c",
   "execution_count": 6
  },
  {
   "cell_type": "code",
   "outputs": [],
   "source": [
    "import pandas as pd"
   ],
   "metadata": {
    "collapsed": false,
    "ExecuteTime": {
     "end_time": "2024-06-04T21:14:53.122790Z",
     "start_time": "2024-06-04T21:14:52.910261Z"
    }
   },
   "id": "26a05ccdca43fef8",
   "execution_count": 7
  },
  {
   "cell_type": "code",
   "outputs": [],
   "source": [
    "df = pd.DataFrame(rows)"
   ],
   "metadata": {
    "collapsed": false,
    "ExecuteTime": {
     "end_time": "2024-06-04T21:14:53.679880Z",
     "start_time": "2024-06-04T21:14:53.674677Z"
    }
   },
   "id": "5b8b87c9a52725f",
   "execution_count": 8
  },
  {
   "cell_type": "code",
   "outputs": [
    {
     "data": {
      "text/plain": "    problem_id                             mutation mutation_id stem_id  \\\n0     Mbpp/100                 AddParensTransformer           9       0   \n1     Mbpp/100         AdditionInversionTransformer          30       0   \n2     Mbpp/100             BlockCommentsTransformer          10       0   \n3     Mbpp/100             BlockCommentsTransformer          10       1   \n4     Mbpp/100             BlockCommentsTransformer          10       2   \n..         ...                                  ...         ...     ...   \n614   Mbpp/771  SingleElementInitializerTransformer           4       0   \n615   Mbpp/771            UnusedVariableTransformer          18       0   \n616   Mbpp/771            UnusedVariableTransformer          18       1   \n617   Mbpp/771            UnusedVariableTransformer          18       2   \n618   Mbpp/771            UnusedVariableTransformer          18       3   \n\n                                       original_prefix  \\\n0    def next_smallest_palindrome(num):\\n    \"\"\"\\n ...   \n1    def next_smallest_palindrome(num):\\n    \"\"\"\\n ...   \n2    def next_smallest_palindrome(num):\\n    \"\"\"\\n ...   \n3    def next_smallest_palindrome(num):\\n    \"\"\"\\n ...   \n4    def next_smallest_palindrome(num):\\n    \"\"\"\\n ...   \n..                                                 ...   \n614  def check_expression(exp):\\n    \"\"\"\\n    Write...   \n615  def check_expression(exp):\\n    \"\"\"\\n    Write...   \n616  def check_expression(exp):\\n    \"\"\"\\n    Write...   \n617  def check_expression(exp):\\n    \"\"\"\\n    Write...   \n618  def check_expression(exp):\\n    \"\"\"\\n    Write...   \n\n                                        mutated_prefix  \\\n0    def next_smallest_palindrome(num):\\n    \"\"\"\\n ...   \n1    def next_smallest_palindrome(num):\\n    \"\"\"\\n ...   \n2    def next_smallest_palindrome(num):\\n    \"\"\"\\n ...   \n3    def next_smallest_palindrome(num):\\n    \"\"\"\\n ...   \n4    def next_smallest_palindrome(num):\\n    \"\"\"\\n ...   \n..                                                 ...   \n614  def check_expression(exp):\\n    \"\"\"\\n    Write...   \n615  def check_expression(exp):\\n    \"\"\"\\n    Write...   \n616  def check_expression(exp):\\n    \"\"\"\\n    Write...   \n617  def check_expression(exp):\\n    \"\"\"\\n    Write...   \n618  def check_expression(exp):\\n    \"\"\"\\n    Write...   \n\n                                      pass_at_original  \\\n0    {'1': 0.3768844221105532, '5': 0.9089294272097...   \n1                      {'1': 1.0, '5': 1.0, '10': 1.0}   \n2                      {'1': 1.0, '5': 1.0, '10': 1.0}   \n3                      {'1': 1.0, '5': 1.0, '10': 1.0}   \n4    {'1': 0.9099999999999999, '5': 0.9999966209848...   \n..                                                 ...   \n614  {'1': 0.4199999999999998, '5': 0.9367462049297...   \n615                    {'1': 1.0, '5': 1.0, '10': 1.0}   \n616                    {'1': 1.0, '5': 1.0, '10': 1.0}   \n617  {'1': 0.495, '5': 0.9687619569930872, '10': 0....   \n618                    {'1': 1.0, '5': 1.0, '10': 1.0}   \n\n                                       pass_at_mutated  \\\n0    {'1': 0.4030612244897961, '5': 0.9268230952308...   \n1    {'1': 0.29499999999999993, '5': 0.829513088880...   \n2                      {'1': 1.0, '5': 1.0, '10': 1.0}   \n3                      {'1': 1.0, '5': 1.0, '10': 1.0}   \n4    {'1': 0.4450000000000002, '5': 0.9494548912593...   \n..                                                 ...   \n614  {'1': 0.4900000000000001, '5': 0.9671517485906...   \n615                    {'1': 1.0, '5': 1.0, '10': 1.0}   \n616                    {'1': 1.0, '5': 1.0, '10': 1.0}   \n617  {'1': 0.8700000000000001, '5': 0.9999740579342...   \n618                    {'1': 1.0, '5': 1.0, '10': 1.0}   \n\n                                         pass_at_ratio  average_levenshtein  \\\n0    {'pass@1': 1.0694529446977779, 'pass@5': 1.019...            56.356190   \n1    {'pass@1': 0.29499970500029493, 'pass@5': 0.82...             2.213559   \n2    {'pass@1': 0.9999990000010001, 'pass@5': 0.999...            54.704179   \n3    {'pass@1': 0.9999990000010001, 'pass@5': 0.999...            62.000000   \n4    {'pass@1': 0.48901045163686657, 'pass@5': 0.94...            79.259925   \n..                                                 ...                  ...   \n614  {'pass@1': 1.1666638888955034, 'pass@5': 1.032...           125.683734   \n615  {'pass@1': 0.9999990000010001, 'pass@5': 0.999...            27.616169   \n616  {'pass@1': 0.9999990000010001, 'pass@5': 0.999...            27.534129   \n617  {'pass@1': 1.7575722069248347, 'pass@5': 1.032...           109.814626   \n618  {'pass@1': 0.9999990000010001, 'pass@5': 0.999...            43.411443   \n\n                                              examples  pass_at_original_1  \\\n0    {'passed': {'original': ['def next_smallest_pa...            0.376884   \n1    {'passed': {'original': ['def next_smallest_pa...            1.000000   \n2    {'passed': {'original': ['def next_smallest_pa...            1.000000   \n3    {'passed': {'original': ['def next_smallest_pa...            1.000000   \n4    {'passed': {'original': ['def next_smallest_pa...            0.910000   \n..                                                 ...                 ...   \n614  {'passed': {'original': ['def check_expression...            0.420000   \n615  {'passed': {'original': ['def check_expression...            1.000000   \n616  {'passed': {'original': ['def check_expression...            1.000000   \n617  {'passed': {'original': ['def check_expression...            0.495000   \n618  {'passed': {'original': ['def check_expression...            1.000000   \n\n     pass_at_original_5  pass_at_original_10  pass_at_mutated_1  \\\n0              0.908929             0.992349           0.403061   \n1              1.000000             1.000000           0.295000   \n2              1.000000             1.000000           1.000000   \n3              1.000000             1.000000           1.000000   \n4              0.999997             1.000000           0.445000   \n..                  ...                  ...                ...   \n614            0.936746             0.996367           0.490000   \n615            1.000000             1.000000           1.000000   \n616            1.000000             1.000000           1.000000   \n617            0.968762             0.999144           0.870000   \n618            1.000000             1.000000           1.000000   \n\n     pass_at_mutated_5  pass_at_mutated_10  pass@1_ratio  pass@5_ratio  \\\n0             0.926823            0.995114      1.069453      1.019685   \n1             0.829513            0.972498      0.295000      0.829512   \n2             1.000000            1.000000      0.999999      0.999999   \n3             1.000000            1.000000      0.999999      0.999999   \n4             0.949455            0.997704      0.489010      0.949457   \n..                 ...                 ...           ...           ...   \n614           0.967152            0.999051      1.166664      1.032458   \n615           1.000000            1.000000      0.999999      0.999999   \n616           1.000000            1.000000      0.999999      0.999999   \n617           0.999974            1.000000      1.757572      1.032217   \n618           1.000000            1.000000      0.999999      0.999999   \n\n     pass@10_ratio  \n0         1.002786  \n1         0.972497  \n2         0.999999  \n3         0.999999  \n4         0.997703  \n..             ...  \n614       1.002693  \n615       0.999999  \n616       0.999999  \n617       1.000855  \n618       0.999999  \n\n[619 rows x 20 columns]",
      "text/html": "<div>\n<style scoped>\n    .dataframe tbody tr th:only-of-type {\n        vertical-align: middle;\n    }\n\n    .dataframe tbody tr th {\n        vertical-align: top;\n    }\n\n    .dataframe thead th {\n        text-align: right;\n    }\n</style>\n<table border=\"1\" class=\"dataframe\">\n  <thead>\n    <tr style=\"text-align: right;\">\n      <th></th>\n      <th>problem_id</th>\n      <th>mutation</th>\n      <th>mutation_id</th>\n      <th>stem_id</th>\n      <th>original_prefix</th>\n      <th>mutated_prefix</th>\n      <th>pass_at_original</th>\n      <th>pass_at_mutated</th>\n      <th>pass_at_ratio</th>\n      <th>average_levenshtein</th>\n      <th>examples</th>\n      <th>pass_at_original_1</th>\n      <th>pass_at_original_5</th>\n      <th>pass_at_original_10</th>\n      <th>pass_at_mutated_1</th>\n      <th>pass_at_mutated_5</th>\n      <th>pass_at_mutated_10</th>\n      <th>pass@1_ratio</th>\n      <th>pass@5_ratio</th>\n      <th>pass@10_ratio</th>\n    </tr>\n  </thead>\n  <tbody>\n    <tr>\n      <th>0</th>\n      <td>Mbpp/100</td>\n      <td>AddParensTransformer</td>\n      <td>9</td>\n      <td>0</td>\n      <td>def next_smallest_palindrome(num):\\n    \"\"\"\\n ...</td>\n      <td>def next_smallest_palindrome(num):\\n    \"\"\"\\n ...</td>\n      <td>{'1': 0.3768844221105532, '5': 0.9089294272097...</td>\n      <td>{'1': 0.4030612244897961, '5': 0.9268230952308...</td>\n      <td>{'pass@1': 1.0694529446977779, 'pass@5': 1.019...</td>\n      <td>56.356190</td>\n      <td>{'passed': {'original': ['def next_smallest_pa...</td>\n      <td>0.376884</td>\n      <td>0.908929</td>\n      <td>0.992349</td>\n      <td>0.403061</td>\n      <td>0.926823</td>\n      <td>0.995114</td>\n      <td>1.069453</td>\n      <td>1.019685</td>\n      <td>1.002786</td>\n    </tr>\n    <tr>\n      <th>1</th>\n      <td>Mbpp/100</td>\n      <td>AdditionInversionTransformer</td>\n      <td>30</td>\n      <td>0</td>\n      <td>def next_smallest_palindrome(num):\\n    \"\"\"\\n ...</td>\n      <td>def next_smallest_palindrome(num):\\n    \"\"\"\\n ...</td>\n      <td>{'1': 1.0, '5': 1.0, '10': 1.0}</td>\n      <td>{'1': 0.29499999999999993, '5': 0.829513088880...</td>\n      <td>{'pass@1': 0.29499970500029493, 'pass@5': 0.82...</td>\n      <td>2.213559</td>\n      <td>{'passed': {'original': ['def next_smallest_pa...</td>\n      <td>1.000000</td>\n      <td>1.000000</td>\n      <td>1.000000</td>\n      <td>0.295000</td>\n      <td>0.829513</td>\n      <td>0.972498</td>\n      <td>0.295000</td>\n      <td>0.829512</td>\n      <td>0.972497</td>\n    </tr>\n    <tr>\n      <th>2</th>\n      <td>Mbpp/100</td>\n      <td>BlockCommentsTransformer</td>\n      <td>10</td>\n      <td>0</td>\n      <td>def next_smallest_palindrome(num):\\n    \"\"\"\\n ...</td>\n      <td>def next_smallest_palindrome(num):\\n    \"\"\"\\n ...</td>\n      <td>{'1': 1.0, '5': 1.0, '10': 1.0}</td>\n      <td>{'1': 1.0, '5': 1.0, '10': 1.0}</td>\n      <td>{'pass@1': 0.9999990000010001, 'pass@5': 0.999...</td>\n      <td>54.704179</td>\n      <td>{'passed': {'original': ['def next_smallest_pa...</td>\n      <td>1.000000</td>\n      <td>1.000000</td>\n      <td>1.000000</td>\n      <td>1.000000</td>\n      <td>1.000000</td>\n      <td>1.000000</td>\n      <td>0.999999</td>\n      <td>0.999999</td>\n      <td>0.999999</td>\n    </tr>\n    <tr>\n      <th>3</th>\n      <td>Mbpp/100</td>\n      <td>BlockCommentsTransformer</td>\n      <td>10</td>\n      <td>1</td>\n      <td>def next_smallest_palindrome(num):\\n    \"\"\"\\n ...</td>\n      <td>def next_smallest_palindrome(num):\\n    \"\"\"\\n ...</td>\n      <td>{'1': 1.0, '5': 1.0, '10': 1.0}</td>\n      <td>{'1': 1.0, '5': 1.0, '10': 1.0}</td>\n      <td>{'pass@1': 0.9999990000010001, 'pass@5': 0.999...</td>\n      <td>62.000000</td>\n      <td>{'passed': {'original': ['def next_smallest_pa...</td>\n      <td>1.000000</td>\n      <td>1.000000</td>\n      <td>1.000000</td>\n      <td>1.000000</td>\n      <td>1.000000</td>\n      <td>1.000000</td>\n      <td>0.999999</td>\n      <td>0.999999</td>\n      <td>0.999999</td>\n    </tr>\n    <tr>\n      <th>4</th>\n      <td>Mbpp/100</td>\n      <td>BlockCommentsTransformer</td>\n      <td>10</td>\n      <td>2</td>\n      <td>def next_smallest_palindrome(num):\\n    \"\"\"\\n ...</td>\n      <td>def next_smallest_palindrome(num):\\n    \"\"\"\\n ...</td>\n      <td>{'1': 0.9099999999999999, '5': 0.9999966209848...</td>\n      <td>{'1': 0.4450000000000002, '5': 0.9494548912593...</td>\n      <td>{'pass@1': 0.48901045163686657, 'pass@5': 0.94...</td>\n      <td>79.259925</td>\n      <td>{'passed': {'original': ['def next_smallest_pa...</td>\n      <td>0.910000</td>\n      <td>0.999997</td>\n      <td>1.000000</td>\n      <td>0.445000</td>\n      <td>0.949455</td>\n      <td>0.997704</td>\n      <td>0.489010</td>\n      <td>0.949457</td>\n      <td>0.997703</td>\n    </tr>\n    <tr>\n      <th>...</th>\n      <td>...</td>\n      <td>...</td>\n      <td>...</td>\n      <td>...</td>\n      <td>...</td>\n      <td>...</td>\n      <td>...</td>\n      <td>...</td>\n      <td>...</td>\n      <td>...</td>\n      <td>...</td>\n      <td>...</td>\n      <td>...</td>\n      <td>...</td>\n      <td>...</td>\n      <td>...</td>\n      <td>...</td>\n      <td>...</td>\n      <td>...</td>\n      <td>...</td>\n    </tr>\n    <tr>\n      <th>614</th>\n      <td>Mbpp/771</td>\n      <td>SingleElementInitializerTransformer</td>\n      <td>4</td>\n      <td>0</td>\n      <td>def check_expression(exp):\\n    \"\"\"\\n    Write...</td>\n      <td>def check_expression(exp):\\n    \"\"\"\\n    Write...</td>\n      <td>{'1': 0.4199999999999998, '5': 0.9367462049297...</td>\n      <td>{'1': 0.4900000000000001, '5': 0.9671517485906...</td>\n      <td>{'pass@1': 1.1666638888955034, 'pass@5': 1.032...</td>\n      <td>125.683734</td>\n      <td>{'passed': {'original': ['def check_expression...</td>\n      <td>0.420000</td>\n      <td>0.936746</td>\n      <td>0.996367</td>\n      <td>0.490000</td>\n      <td>0.967152</td>\n      <td>0.999051</td>\n      <td>1.166664</td>\n      <td>1.032458</td>\n      <td>1.002693</td>\n    </tr>\n    <tr>\n      <th>615</th>\n      <td>Mbpp/771</td>\n      <td>UnusedVariableTransformer</td>\n      <td>18</td>\n      <td>0</td>\n      <td>def check_expression(exp):\\n    \"\"\"\\n    Write...</td>\n      <td>def check_expression(exp):\\n    \"\"\"\\n    Write...</td>\n      <td>{'1': 1.0, '5': 1.0, '10': 1.0}</td>\n      <td>{'1': 1.0, '5': 1.0, '10': 1.0}</td>\n      <td>{'pass@1': 0.9999990000010001, 'pass@5': 0.999...</td>\n      <td>27.616169</td>\n      <td>{'passed': {'original': ['def check_expression...</td>\n      <td>1.000000</td>\n      <td>1.000000</td>\n      <td>1.000000</td>\n      <td>1.000000</td>\n      <td>1.000000</td>\n      <td>1.000000</td>\n      <td>0.999999</td>\n      <td>0.999999</td>\n      <td>0.999999</td>\n    </tr>\n    <tr>\n      <th>616</th>\n      <td>Mbpp/771</td>\n      <td>UnusedVariableTransformer</td>\n      <td>18</td>\n      <td>1</td>\n      <td>def check_expression(exp):\\n    \"\"\"\\n    Write...</td>\n      <td>def check_expression(exp):\\n    \"\"\"\\n    Write...</td>\n      <td>{'1': 1.0, '5': 1.0, '10': 1.0}</td>\n      <td>{'1': 1.0, '5': 1.0, '10': 1.0}</td>\n      <td>{'pass@1': 0.9999990000010001, 'pass@5': 0.999...</td>\n      <td>27.534129</td>\n      <td>{'passed': {'original': ['def check_expression...</td>\n      <td>1.000000</td>\n      <td>1.000000</td>\n      <td>1.000000</td>\n      <td>1.000000</td>\n      <td>1.000000</td>\n      <td>1.000000</td>\n      <td>0.999999</td>\n      <td>0.999999</td>\n      <td>0.999999</td>\n    </tr>\n    <tr>\n      <th>617</th>\n      <td>Mbpp/771</td>\n      <td>UnusedVariableTransformer</td>\n      <td>18</td>\n      <td>2</td>\n      <td>def check_expression(exp):\\n    \"\"\"\\n    Write...</td>\n      <td>def check_expression(exp):\\n    \"\"\"\\n    Write...</td>\n      <td>{'1': 0.495, '5': 0.9687619569930872, '10': 0....</td>\n      <td>{'1': 0.8700000000000001, '5': 0.9999740579342...</td>\n      <td>{'pass@1': 1.7575722069248347, 'pass@5': 1.032...</td>\n      <td>109.814626</td>\n      <td>{'passed': {'original': ['def check_expression...</td>\n      <td>0.495000</td>\n      <td>0.968762</td>\n      <td>0.999144</td>\n      <td>0.870000</td>\n      <td>0.999974</td>\n      <td>1.000000</td>\n      <td>1.757572</td>\n      <td>1.032217</td>\n      <td>1.000855</td>\n    </tr>\n    <tr>\n      <th>618</th>\n      <td>Mbpp/771</td>\n      <td>UnusedVariableTransformer</td>\n      <td>18</td>\n      <td>3</td>\n      <td>def check_expression(exp):\\n    \"\"\"\\n    Write...</td>\n      <td>def check_expression(exp):\\n    \"\"\"\\n    Write...</td>\n      <td>{'1': 1.0, '5': 1.0, '10': 1.0}</td>\n      <td>{'1': 1.0, '5': 1.0, '10': 1.0}</td>\n      <td>{'pass@1': 0.9999990000010001, 'pass@5': 0.999...</td>\n      <td>43.411443</td>\n      <td>{'passed': {'original': ['def check_expression...</td>\n      <td>1.000000</td>\n      <td>1.000000</td>\n      <td>1.000000</td>\n      <td>1.000000</td>\n      <td>1.000000</td>\n      <td>1.000000</td>\n      <td>0.999999</td>\n      <td>0.999999</td>\n      <td>0.999999</td>\n    </tr>\n  </tbody>\n</table>\n<p>619 rows × 20 columns</p>\n</div>"
     },
     "execution_count": 9,
     "metadata": {},
     "output_type": "execute_result"
    }
   ],
   "source": [
    "df"
   ],
   "metadata": {
    "collapsed": false,
    "ExecuteTime": {
     "end_time": "2024-06-04T21:14:54.641480Z",
     "start_time": "2024-06-04T21:14:54.600479Z"
    }
   },
   "id": "5af9c54997cf053f",
   "execution_count": 9
  },
  {
   "cell_type": "markdown",
   "source": [
    "## Average Cross Levenshtein Distance by Mutation "
   ],
   "metadata": {
    "collapsed": false
   },
   "id": "152fd899daf416f7"
  },
  {
   "cell_type": "code",
   "outputs": [
    {
     "data": {
      "text/plain": "mutation\nAddParensTransformer                    12.248687\nAdditionInversionTransformer             8.206903\nArrayToDictTransformer                 191.833333\nBlockCommentsTransformer                80.972842\nDictInitializerUnpackTransformer        38.671194\nEmptyArrayToStringTransformer          183.340976\nEnumerateForTransformer                 36.132877\nExpandAugmentedAssignTransformer         9.183971\nExpandBooleansTransformer               41.187178\nFirstInversionTransformer               42.328066\nForToWhileTransformer                   65.874742\nIdentifierObfuscateTransformer          64.230863\nIdentifierRenameTransformer             41.721350\nIdentityAssignmentTransformer           38.388711\nIfToWhileLoopTransformer                20.376482\nInlineCommentsTransformer               36.689623\nIntegerBinTransformer                   18.474669\nIntegerHexTransformer                   21.960493\nIntegerOctTransformer                   18.898987\nIntegerReplacementTransformer           19.787892\nLenToGeneratorTransformer               71.604408\nListInitializerUnpackTransformer       122.752841\nModuloInversionTransformer              10.000000\nNegationToComplementTransformer         36.718750\nNestedArrayInitializerTransformer      122.455099\nPrintInjectionTransformer               75.692542\nReverseIterationTransformer             42.542805\nSecondInversionTransformer              36.785619\nSingleElementInitializerTransformer    125.683734\nSubtractionInversionTransformer          8.456672\nUnusedVariableTransformer               45.852651\nWhileToIfTransformer                    73.832641\nName: average_levenshtein, dtype: float64"
     },
     "execution_count": 10,
     "metadata": {},
     "output_type": "execute_result"
    }
   ],
   "source": [
    "df.groupby('mutation')['average_levenshtein'].mean()"
   ],
   "metadata": {
    "collapsed": false,
    "ExecuteTime": {
     "end_time": "2024-06-04T21:14:59.316484Z",
     "start_time": "2024-06-04T21:14:59.311444Z"
    }
   },
   "id": "c573122964e5064e",
   "execution_count": 10
  },
  {
   "cell_type": "code",
   "outputs": [
    {
     "data": {
      "text/plain": "mutation\nListInitializerUnpackTransformer       1.813411\nEmptyArrayToStringTransformer          1.374997\nSingleElementInitializerTransformer    1.166664\nAddParensTransformer                   0.999999\nIdentityAssignmentTransformer          0.999999\nSecondInversionTransformer             0.999999\nModuloInversionTransformer             0.999999\nLenToGeneratorTransformer              0.999999\nIntegerReplacementTransformer          0.999999\nIntegerOctTransformer                  0.999999\nIntegerHexTransformer                  0.999999\nInlineCommentsTransformer              0.999999\nIntegerBinTransformer                  0.999999\nIdentifierRenameTransformer            0.999999\nExpandBooleansTransformer              0.999999\nBlockCommentsTransformer               0.999999\nEnumerateForTransformer                0.999999\nExpandAugmentedAssignTransformer       0.999999\nDictInitializerUnpackTransformer       0.999999\nForToWhileTransformer                  0.999999\nPrintInjectionTransformer              0.997499\nReverseIterationTransformer            0.947499\nAdditionInversionTransformer           0.939305\nNegationToComplementTransformer        0.907108\nIdentifierObfuscateTransformer         0.858213\nUnusedVariableTransformer              0.846170\nNestedArrayInitializerTransformer      0.837207\nSubtractionInversionTransformer        0.804999\nIfToWhileLoopTransformer               0.774996\nWhileToIfTransformer                   0.729999\nArrayToDictTransformer                 0.032258\nFirstInversionTransformer              0.000000\nName: pass@1_ratio, dtype: float64"
     },
     "execution_count": 20,
     "metadata": {},
     "output_type": "execute_result"
    }
   ],
   "source": [
    "df.groupby('mutation')['pass@1_ratio'].median().sort_values(ascending=False)\n"
   ],
   "metadata": {
    "collapsed": false,
    "ExecuteTime": {
     "end_time": "2024-06-04T21:21:04.674169Z",
     "start_time": "2024-06-04T21:21:04.669446Z"
    }
   },
   "id": "c9425a36c66b62b7",
   "execution_count": 20
  },
  {
   "cell_type": "code",
   "outputs": [],
   "source": [
    "a"
   ],
   "metadata": {
    "collapsed": false
   },
   "id": "cc54871940de2ce6"
  }
 ],
 "metadata": {
  "kernelspec": {
   "display_name": "Python 3",
   "language": "python",
   "name": "python3"
  },
  "language_info": {
   "codemirror_mode": {
    "name": "ipython",
    "version": 2
   },
   "file_extension": ".py",
   "mimetype": "text/x-python",
   "name": "python",
   "nbconvert_exporter": "python",
   "pygments_lexer": "ipython2",
   "version": "2.7.6"
  }
 },
 "nbformat": 4,
 "nbformat_minor": 5
}
